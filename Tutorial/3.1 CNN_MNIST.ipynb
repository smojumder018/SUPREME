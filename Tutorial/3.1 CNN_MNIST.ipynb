{
  "cells": [
    {
      "cell_type": "markdown",
      "metadata": {
        "id": "view-in-github",
        "colab_type": "text"
      },
      "source": [
        "<a href=\"https://colab.research.google.com/github/smojumder018/SUPREME/blob/main/3.1%20CNN_MNIST.ipynb\" target=\"_parent\"><img src=\"https://colab.research.google.com/assets/colab-badge.svg\" alt=\"Open In Colab\"/></a>"
      ]
    },
    {
      "cell_type": "markdown",
      "metadata": {
        "id": "xtEKzHH1VnnM"
      },
      "source": [
        "#Convolutional Neural Network with PyTorch\n",
        "## 1. About Convolutional Neural Network"
      ]
    },
    {
      "cell_type": "markdown",
      "metadata": {
        "id": "Scz3eBjmVnnN"
      },
      "source": [
        "### Transition From Feedforward Neural Network\n",
        "\n",
        "\n",
        "#### Basic Convolutional Neural Network\n",
        "- Additional **convolution** and **pooling** layers **before feedforward neural network**\n",
        "- Layer with a **linear function & non-linearity**: **Fully connected layer**\n",
        "\n",
        "\n"
      ]
    },
    {
      "cell_type": "markdown",
      "source": [
        "##2. MNIST Dataset\n",
        "![](https://drive.google.com/uc?export=view&id=1Esgjfx-jfstlL0h1dlfBvcjGVGSFzMrw)\n",
        "\n",
        "The MNIST dataset is a benchmark dataset used for training and testing image processing systems, especially in the field of machine learning and deep learning. It is particularly popular for testing classification algorithms. It is a collection of images of hand written numbers.\n",
        "\n",
        "**Datasets:**\n",
        "\n",
        "Set| Number of Images\n",
        "---|---\n",
        "Training|60,000\n",
        "Testing|10,000\n",
        "\n",
        "**Image Properties:**\n",
        "\n",
        "*Image Size: 28 x 28 pixels\n",
        "\n",
        "*Pixel Values: 0 (black) to 255 (white); typically normalized to [0, 1] for model input\n",
        "\n",
        "*Color Format: Grayscale (1 channel)\n"
      ],
      "metadata": {
        "id": "bFKu7X7m0kLw"
      }
    },
    {
      "cell_type": "markdown",
      "metadata": {
        "collapsed": true,
        "id": "KFSacDhsVnnP"
      },
      "source": [
        "## 3. Building a Convolutional Neural Network with PyTorch\n",
        "\n",
        "### Model A:\n",
        "- 2 Convolutional Layers\n",
        "    - Same Padding (same output size)\n",
        "- 2 Max Pooling Layers\n",
        "- 1 Fully Connected Layer\n",
        "\n",
        "\n",
        "### Steps\n",
        "- Step 1: Load Dataset\n",
        "- Step 2: Make Dataset Iterable\n",
        "- Step 3: Create Model Class\n",
        "- Step 4: Instantiate Model Class\n",
        "- Step 5: Instantiate Loss Class\n",
        "- Step 6: Instantiate Optimizer Class\n",
        "- Step 7: Train Model"
      ]
    },
    {
      "cell_type": "markdown",
      "metadata": {
        "id": "pGsX8i2kVnnP"
      },
      "source": [
        "### Step 1: Loading MNIST Train Dataset\n",
        "**Images from 1 to 9**"
      ]
    },
    {
      "cell_type": "code",
      "execution_count": 1,
      "metadata": {
        "id": "ld9UgMJCVnnP"
      },
      "outputs": [],
      "source": [
        "import torch\n",
        "import torch.nn as nn\n",
        "import torchvision.transforms as transforms\n",
        "import torchvision.datasets as dsets\n",
        "from torch.autograd import Variable"
      ]
    },
    {
      "cell_type": "code",
      "execution_count": 2,
      "metadata": {
        "colab": {
          "base_uri": "https://localhost:8080/"
        },
        "id": "QGhvro_PVnnQ",
        "outputId": "3aca3bae-f404-4f66-a156-98d82299eeb3"
      },
      "outputs": [
        {
          "output_type": "stream",
          "name": "stderr",
          "text": [
            "100%|██████████| 9.91M/9.91M [00:00<00:00, 12.6MB/s]\n",
            "100%|██████████| 28.9k/28.9k [00:00<00:00, 339kB/s]\n",
            "100%|██████████| 1.65M/1.65M [00:00<00:00, 2.71MB/s]\n",
            "100%|██████████| 4.54k/4.54k [00:00<00:00, 8.30MB/s]\n"
          ]
        }
      ],
      "source": [
        "train_dataset = dsets.MNIST(root='./data',\n",
        "                            train=True,\n",
        "                            transform=transforms.ToTensor(),\n",
        "                            download=True)\n",
        "\n",
        "test_dataset = dsets.MNIST(root='./data',\n",
        "                           train=False,\n",
        "                           transform=transforms.ToTensor())"
      ]
    },
    {
      "cell_type": "markdown",
      "metadata": {
        "id": "eXS4EWhEVnnR"
      },
      "source": [
        "### Step 2: Make Dataset Iterable"
      ]
    },
    {
      "cell_type": "code",
      "execution_count": 3,
      "metadata": {
        "id": "tWJurrNNVnnS"
      },
      "outputs": [],
      "source": [
        "batch_size = 100\n",
        "n_iters = 3000\n",
        "num_epochs = 5\n",
        "\n",
        "\n",
        "train_loader = torch.utils.data.DataLoader(dataset=train_dataset,\n",
        "                                           batch_size=batch_size,\n",
        "                                           shuffle=True)\n",
        "\n",
        "test_loader = torch.utils.data.DataLoader(dataset=test_dataset,\n",
        "                                          batch_size=batch_size,\n",
        "                                          shuffle=False)\n"
      ]
    },
    {
      "cell_type": "markdown",
      "source": [
        "## Create Model Class\n"
      ],
      "metadata": {
        "id": "S4deeLVQHi5Y"
      }
    },
    {
      "cell_type": "code",
      "execution_count": 4,
      "metadata": {
        "id": "ngJeyfh-VnnS"
      },
      "outputs": [],
      "source": [
        "class CNNModel(nn.Module):\n",
        "    def __init__(self):\n",
        "        super(CNNModel, self).__init__()\n",
        "\n",
        "        # Convolution 1\n",
        "        self.cnn1 = nn.Conv2d(in_channels=1, out_channels=16, kernel_size=5, stride=1, padding=2)\n",
        "        self.relu1 = nn.ReLU()\n",
        "\n",
        "        # Max pool 1\n",
        "        self.maxpool1 = nn.MaxPool2d(kernel_size=2)\n",
        "\n",
        "        # Convolution 2\n",
        "        self.cnn2 = nn.Conv2d(in_channels=16, out_channels=32, kernel_size=5, stride=1, padding=2)\n",
        "        self.relu2 = nn.ReLU()\n",
        "\n",
        "        # Max pool 2\n",
        "        self.maxpool2 = nn.MaxPool2d(kernel_size=2)\n",
        "\n",
        "        # Fully connected 1 (readout)\n",
        "        self.fc1 = nn.Linear(32 * 7 * 7, 10)\n",
        "\n",
        "    def forward(self, x):\n",
        "        # Convolution 1\n",
        "        out = self.cnn1(x)\n",
        "        out = self.relu1(out)\n",
        "\n",
        "        # Max pool 1\n",
        "        out = self.maxpool1(out)\n",
        "\n",
        "        # Convolution 2\n",
        "        out = self.cnn2(out)\n",
        "        out = self.relu2(out)\n",
        "\n",
        "        # Max pool 2\n",
        "        out = self.maxpool2(out)\n",
        "\n",
        "        out = out.view(out.size(0), -1) #Converts [32, 7, 7] into a single vector of size 32×7×7 = 1568\n",
        "\n",
        "        # Linear function (readout)\n",
        "        out = self.fc1(out)\n",
        "\n",
        "        return out"
      ]
    },
    {
      "cell_type": "markdown",
      "source": [
        "  Input: 1×28×28 grayscale image\n",
        "\n",
        "$$\n",
        "\\text{Output Shape} = \\left\\lfloor \\frac{\\text{Input} - \\text{Kernel} + 2 \\times \\text{Padding}}{\\text{Stride}} \\right\\rfloor + 1\n",
        "$$\n",
        "\n",
        "\n",
        "  1. Conv2d Layer 1:\n",
        "  nn.Conv2d(1, 16, kernel_size=5, stride=1, padding=2)\n",
        "\n",
        "  Output shape: ((28 - 5 + 2×2)/1) + 1 = 28\n",
        "\n",
        "  [batch, 16, 28, 28]\n",
        "\n",
        "  Params: (1×5×5 + 1 bias) × 16 = 416\n",
        "\n",
        "  2. ReLU:\n",
        "\n",
        "  Output shape: [batch, 16, 28, 28]\n",
        "\n",
        "  No params\n",
        "\n",
        "  3. MaxPool2d:\n",
        "  nn.MaxPool2d(kernel_size=2)\n",
        "\n",
        "  Output shape: Takes max of 2x2 patches halving\n",
        "  \n",
        "  [batch, 16, 14, 14]\n",
        "\n",
        "  No params\n",
        "\n",
        "  4. Conv2d Layer 2:\n",
        "  nn.Conv2d(16, 32, kernel_size=5, stride=1, padding=2)\n",
        "\n",
        "  Output shape: ((14 - 5 + 2×2)/1) + 1 = 14\n",
        "  \n",
        "  [batch, 32, 14, 14]\n",
        "\n",
        "  Params: (16×5×5 + 1 bias) × 32 = 12,832\n",
        "\n",
        "  5. ReLU:\n",
        "\n",
        "  Output shape: [batch, 32, 14, 14]\n",
        "\n",
        "  No params\n",
        "\n",
        "  6. MaxPool2d:\n",
        "\n",
        "  Output shape: [batch, 32, 7, 7]\n",
        "\n",
        "  No params\n",
        "\n",
        "  7. Flatten:\n",
        "\n",
        "  [32, 7, 7] → 1568\n",
        "\n",
        "  8. Fully Connected Layer:\n",
        "  nn.Linear(1568, 10)\n",
        "\n",
        "  Output shape: [batch, 10]\n",
        "\n",
        "  Params: 1568×10 + 10 = 15,690"
      ],
      "metadata": {
        "id": "4gW5CB5mVDmr"
      }
    },
    {
      "cell_type": "markdown",
      "metadata": {
        "id": "6gRtgU5RVnnS"
      },
      "source": [
        "### Step 4: Instantiate Model Class"
      ]
    },
    {
      "cell_type": "code",
      "execution_count": 5,
      "metadata": {
        "colab": {
          "base_uri": "https://localhost:8080/"
        },
        "id": "-mUech_AVnnS",
        "outputId": "7f58437d-3257-4da3-882f-df1b23f3537e"
      },
      "outputs": [
        {
          "output_type": "stream",
          "name": "stdout",
          "text": [
            "----------------------------------------------------------------\n",
            "        Layer (type)               Output Shape         Param #\n",
            "================================================================\n",
            "            Conv2d-1           [-1, 16, 28, 28]             416\n",
            "              ReLU-2           [-1, 16, 28, 28]               0\n",
            "         MaxPool2d-3           [-1, 16, 14, 14]               0\n",
            "            Conv2d-4           [-1, 32, 14, 14]          12,832\n",
            "              ReLU-5           [-1, 32, 14, 14]               0\n",
            "         MaxPool2d-6             [-1, 32, 7, 7]               0\n",
            "            Linear-7                   [-1, 10]          15,690\n",
            "================================================================\n",
            "Total params: 28,938\n",
            "Trainable params: 28,938\n",
            "Non-trainable params: 0\n",
            "----------------------------------------------------------------\n",
            "Input size (MB): 0.00\n",
            "Forward/backward pass size (MB): 0.32\n",
            "Params size (MB): 0.11\n",
            "Estimated Total Size (MB): 0.44\n",
            "----------------------------------------------------------------\n"
          ]
        }
      ],
      "source": [
        "from torchsummary import summary\n",
        "model = CNNModel()\n",
        "#Shows what the model looks like\n",
        "summary(model, input_size=(1, 28, 28))"
      ]
    },
    {
      "cell_type": "markdown",
      "metadata": {
        "id": "Y2mXbPOeVnnS"
      },
      "source": [
        "### Step 5: Instantiate Loss Class\n",
        "\n",
        "  1. nn.MSELoss (Mean Squared Error Loss)\n",
        "\n",
        "  Use: Regression tasks  \n",
        "  Equation:  \n",
        "      MSE = (1/n) * Σ (yᵢ - ŷᵢ)²  \n",
        "\n",
        "\n",
        "  2. nn.L1Loss (Mean Absolute Error Loss)\n",
        "\n",
        "  Use: Regression with less sensitivity to outliers  \n",
        "  Equation:  \n",
        "      MAE = (1/n) * Σ |yᵢ - ŷᵢ|  \n",
        "\n",
        "\n",
        "  3. nn.CrossEntropyLoss (Cross Entropy for Classification)\n",
        "\n",
        "  Use: Multi-class classification (logits as output)  \n",
        "  Equation:  \n",
        "      CE = -Σ yᵢ * log(softmax(ŷᵢ))  \n",
        "\n",
        "\n",
        "  4. nn.BCEWithLogitsLoss (Binary Cross Entropy with Logits)\n",
        "\n",
        "  Use: Binary classification (outputs logits)  \n",
        "  Equation:  \n",
        "      BCE = -[y * log(σ(ŷ)) + (1 - y) * log(1 - σ(ŷ))]  \n",
        "      where σ(ŷ) = sigmoid(ŷ)  \n",
        "\n",
        "\n",
        "  5. nn.HuberLoss (Robust Regression)\n",
        "\n",
        "  Use: Regression with robustness to outliers  \n",
        "  Equation:  \n",
        "      L₍δ₎(a) = ½ * a²    if |a| ≤ δ  \n",
        "              δ * (|a| - ½δ) otherwise  \n",
        "      where a = y - ŷ  \n",
        "\n",
        "\n",
        "  6. nn.SmoothL1Loss (Smooth between L1 and L2)\n",
        "\n",
        "  Use: Regression (alternative to MSE/L1)  \n",
        "  Equation:  \n",
        "      Like Huber with δ = 1  \n",
        "\n",
        "\n",
        "  7. nn.KLDivLoss (Kullback-Leibler Divergence)\n",
        "\n",
        "  Use: Comparing probability distributions  \n",
        "  Equation:  \n",
        "      KL(P || Q) = Σ P(i) * log(P(i) / Q(i))  \n",
        "\n",
        "\n",
        "\n",
        "    \n",
        "   "
      ]
    },
    {
      "cell_type": "code",
      "execution_count": 6,
      "metadata": {
        "id": "i4KoG2XJVnnS"
      },
      "outputs": [],
      "source": [
        "criterion = nn.CrossEntropyLoss()"
      ]
    },
    {
      "cell_type": "markdown",
      "metadata": {
        "id": "amdMka1_VnnS"
      },
      "source": [
        "### Step 6: Instantiate Optimizer Class\n",
        "\n",
        "\n",
        "  1. optim.SGD (Stochastic Gradient Descent)\n",
        "\n",
        "  Use: Basic optimizer with optional momentum  \n",
        "  Update Rule:  \n",
        "      θ = θ - lr * ∇L(θ)  \n",
        "  With momentum:  \n",
        "      v = μ * v - lr * ∇L(θ)  \n",
        "      θ = θ + v  \n",
        "  PyTorch:  \n",
        "      optimizer = torch.optim.SGD(model.parameters(), lr=0.01, momentum=0.9)\n",
        "\n",
        "  2. optim.Adam (Adaptive Moment Estimation)\n",
        "\n",
        "  Use: Most common; good default choice  \n",
        "  Update Rule:  \n",
        "      mₜ = β₁ * mₜ₋₁ + (1 - β₁) * gₜ  \n",
        "      vₜ = β₂ * vₜ₋₁ + (1 - β₂) * gₜ²  \n",
        "      m̂ₜ = mₜ / (1 - β₁ᵗ), v̂ₜ = vₜ / (1 - β₂ᵗ)  \n",
        "      θ = θ - lr * m̂ₜ / (√v̂ₜ + ε)  \n",
        "  PyTorch:  \n",
        "      optimizer = torch.optim.Adam(model.parameters(), lr=0.001)\n",
        "\n",
        "  3. optim.AdamW (Adam with Weight Decay)\n",
        "\n",
        "  Use: Better regularization than L2 in Adam  \n",
        "  Same update rule as Adam but decouples weight decay  \n",
        "  PyTorch:  \n",
        "      optimizer = torch.optim.AdamW(model.parameters(), lr=0.001, weight_decay=1e-4)\n",
        "\n",
        "  4. optim.RMSprop\n",
        "\n",
        "  Use: For non-stationary objectives or RNNs  \n",
        "  Update Rule:  \n",
        "      vₜ = α * vₜ₋₁ + (1 - α) * gₜ²  \n",
        "      θ = θ - lr * gₜ / (√vₜ + ε)  \n",
        "  PyTorch:  \n",
        "      optimizer = torch.optim.RMSprop(model.parameters(), lr=0.001, alpha=0.99)\n",
        "\n",
        "  5. optim.Adagrad\n",
        "\n",
        "  Use: Sparse data, adapts learning rate per parameter  \n",
        "  Update Rule:  \n",
        "      Gₜ = Gₜ₋₁ + gₜ²  \n",
        "      θ = θ - lr * gₜ / (√Gₜ + ε)  \n",
        "  PyTorch:  \n",
        "      optimizer = torch.optim.Adagrad(model.parameters(), lr=0.01)\n",
        "\n",
        "\n"
      ]
    },
    {
      "cell_type": "code",
      "execution_count": 7,
      "metadata": {
        "id": "wJ6Ldi5RVnnS"
      },
      "outputs": [],
      "source": [
        "learning_rate = 0.01\n",
        "\n",
        "optimizer = torch.optim.SGD(model.parameters(), lr=learning_rate)"
      ]
    },
    {
      "cell_type": "markdown",
      "metadata": {
        "id": "gx67K2uFVnnS"
      },
      "source": [
        "### Parameters In-Depth"
      ]
    },
    {
      "cell_type": "markdown",
      "metadata": {
        "id": "Qh6-JImwVnnT"
      },
      "source": [
        "### Step 7: Train Model\n",
        "- Process\n",
        "    1. **Convert inputs/labels to variables**\n",
        "        - CNN Input: (1, 28, 28)\n",
        "        - Feedforward NN Input: (1, 28*28)\n",
        "    2. Clear gradient buffets\n",
        "    3. Get output given inputs\n",
        "    4. Get loss\n",
        "    5. Get gradients w.r.t. parameters\n",
        "    6. Update parameters using gradients\n",
        "        - `parameters = parameters - learning_rate * parameters_gradients`\n",
        "    7. REPEAT"
      ]
    },
    {
      "cell_type": "code",
      "execution_count": 8,
      "metadata": {
        "colab": {
          "base_uri": "https://localhost:8080/"
        },
        "id": "X6V_EQBGVnnT",
        "outputId": "2a37492e-bbea-4ca8-a7b3-a6a7357a1b3d"
      },
      "outputs": [
        {
          "output_type": "stream",
          "name": "stdout",
          "text": [
            "Iteration: 500. Loss: 0.457778662443161. Accuracy: 90.08999633789062\n",
            "Iteration: 1000. Loss: 0.3076566755771637. Accuracy: 93.08999633789062\n",
            "Iteration: 1500. Loss: 0.17826765775680542. Accuracy: 94.30000305175781\n",
            "Iteration: 2000. Loss: 0.18221516907215118. Accuracy: 95.47000122070312\n",
            "Iteration: 2500. Loss: 0.1633397340774536. Accuracy: 96.1500015258789\n",
            "Iteration: 3000. Loss: 0.13475945591926575. Accuracy: 96.4800033569336\n"
          ]
        }
      ],
      "source": [
        "iter = 0\n",
        "for epoch in range(num_epochs):\n",
        "    for i, (images, labels) in enumerate(train_loader):\n",
        "\n",
        "        images = images.requires_grad_()\n",
        "\n",
        "        optimizer.zero_grad()\n",
        "        outputs = model(images)\n",
        "        loss = criterion(outputs, labels)\n",
        "        loss.backward()\n",
        "        optimizer.step()\n",
        "\n",
        "        iter += 1\n",
        "\n",
        "        if iter % 500 == 0:\n",
        "            # Calculate Accuracy\n",
        "            correct = 0\n",
        "            total = 0\n",
        "            # Iterate through test dataset\n",
        "            for images, labels in test_loader:\n",
        "\n",
        "                images = images.requires_grad_()\n",
        "                outputs = model(images)\n",
        "                _, predicted = torch.max(outputs.data, 1)\n",
        "                total += labels.size(0)\n",
        "\n",
        "                correct += (predicted == labels).sum()\n",
        "\n",
        "            accuracy = 100 * correct / total\n",
        "\n",
        "            # Print Loss\n",
        "            print('Iteration: {}. Loss: {}. Accuracy: {}'.format(iter, loss.item(), accuracy))\n"
      ]
    },
    {
      "cell_type": "code",
      "source": [
        "import random\n",
        "import matplotlib.pyplot as plt\n",
        "\n",
        "\n",
        "rand_index = random.randint(0, len(test_dataset) - 1)\n",
        "image, label = test_dataset[rand_index]\n",
        "\n",
        "# Prepare image for the model (add batch dimension)\n",
        "input_image = image.unsqueeze(0)\n",
        "\n",
        "model.eval()\n",
        "\n",
        "# Predict\n",
        "with torch.no_grad():\n",
        "    output = model(input_image)\n",
        "    _, predicted = torch.max(output.data, 1)\n",
        "\n",
        "# Show the image and prediction\n",
        "plt.imshow(image.squeeze(), cmap='gray')\n",
        "plt.title(f\"True Label: {label}, Predicted: {predicted.item()}\")\n",
        "plt.axis('off')\n",
        "plt.show()\n"
      ],
      "metadata": {
        "colab": {
          "base_uri": "https://localhost:8080/",
          "height": 428
        },
        "id": "qJQlNfQDmO9M",
        "outputId": "c8abc835-7fad-411a-d10b-733caa84711b"
      },
      "execution_count": 14,
      "outputs": [
        {
          "output_type": "display_data",
          "data": {
            "text/plain": [
              "<Figure size 640x480 with 1 Axes>"
            ],
            "image/png": "[encoded data removed]"
          },
          "metadata": {}
        }
      ]
    },
    {
      "cell_type": "markdown",
      "metadata": {
        "id": "7xN6_8GlVnnT"
      },
      "source": [
        "### Model B:\n",
        "- 2 Convolutional Layers\n",
        "    - Same Padding (same output size)\n",
        "- 2 **Average Pooling** Layers\n",
        "- 1 Fully Connected Layer\n",
        "<img src=\"./images/cnn10-3.png\" alt=\"deeplearningwizard\" style=\"width: 900px;\"/>\n",
        "<img src=\"./images/cnn10-4.png\" alt=\"deeplearningwizard\" style=\"width: 900px;\"/>\n",
        "\n",
        "### Steps\n",
        "- Step 1: Load Dataset\n",
        "- Step 2: Make Dataset Iterable\n",
        "- Step 3: Create Model Class\n",
        "- Step 4: Instantiate Model Class\n",
        "- Step 5: Instantiate Loss Class\n",
        "- Step 6: Instantiate Optimizer Class\n",
        "- Step 7: Train Model"
      ]
    },
    {
      "cell_type": "code",
      "execution_count": 10,
      "metadata": {
        "colab": {
          "base_uri": "https://localhost:8080/"
        },
        "id": "XpSbdGvfVnnT",
        "outputId": "91835b0f-0e00-4bcb-cd51-8620cf6809dc"
      },
      "outputs": [
        {
          "output_type": "stream",
          "name": "stdout",
          "text": [
            "----------------------------------------------------------------\n",
            "        Layer (type)               Output Shape         Param #\n",
            "================================================================\n",
            "            Conv2d-1           [-1, 16, 28, 28]             416\n",
            "              ReLU-2           [-1, 16, 28, 28]               0\n",
            "         AvgPool2d-3           [-1, 16, 14, 14]               0\n",
            "            Conv2d-4           [-1, 32, 14, 14]          12,832\n",
            "              ReLU-5           [-1, 32, 14, 14]               0\n",
            "         AvgPool2d-6             [-1, 32, 7, 7]               0\n",
            "            Linear-7                   [-1, 10]          15,690\n",
            "================================================================\n",
            "Total params: 28,938\n",
            "Trainable params: 28,938\n",
            "Non-trainable params: 0\n",
            "----------------------------------------------------------------\n",
            "Input size (MB): 0.00\n",
            "Forward/backward pass size (MB): 0.32\n",
            "Params size (MB): 0.11\n",
            "Estimated Total Size (MB): 0.44\n",
            "----------------------------------------------------------------\n",
            "Iteration: 500. Loss: 0.6161680221557617. Accuracy: 85.72000122070312\n",
            "Iteration: 1000. Loss: 0.4195305109024048. Accuracy: 89.19999694824219\n",
            "Iteration: 1500. Loss: 0.40347445011138916. Accuracy: 90.2699966430664\n",
            "Iteration: 2000. Loss: 0.27060747146606445. Accuracy: 90.77999877929688\n",
            "Iteration: 2500. Loss: 0.2848072052001953. Accuracy: 92.41000366210938\n",
            "Iteration: 3000. Loss: 0.2691440284252167. Accuracy: 93.13999938964844\n"
          ]
        }
      ],
      "source": [
        "import torch\n",
        "import torch.nn as nn\n",
        "import torchvision.transforms as transforms\n",
        "import torchvision.datasets as dsets\n",
        "from torch.autograd import Variable\n",
        "\n",
        "'''\n",
        "STEP 1: LOADING DATASET\n",
        "'''\n",
        "\n",
        "train_dataset = dsets.MNIST(root='./data',\n",
        "                            train=True,\n",
        "                            transform=transforms.ToTensor(),\n",
        "                            download=True)\n",
        "\n",
        "test_dataset = dsets.MNIST(root='./data',\n",
        "                           train=False,\n",
        "                           transform=transforms.ToTensor())\n",
        "\n",
        "'''\n",
        "STEP 2: MAKING DATASET ITERABLE\n",
        "'''\n",
        "\n",
        "batch_size = 100\n",
        "n_iters = 3000\n",
        "num_epochs = n_iters / (len(train_dataset) / batch_size)\n",
        "num_epochs = int(num_epochs)\n",
        "\n",
        "train_loader = torch.utils.data.DataLoader(dataset=train_dataset,\n",
        "                                           batch_size=batch_size,\n",
        "                                           shuffle=True)\n",
        "\n",
        "test_loader = torch.utils.data.DataLoader(dataset=test_dataset,\n",
        "                                          batch_size=batch_size,\n",
        "                                          shuffle=False)\n",
        "\n",
        "'''\n",
        "STEP 3: CREATE MODEL CLASS\n",
        "'''\n",
        "class CNNModel(nn.Module):\n",
        "    def __init__(self):\n",
        "        super(CNNModel, self).__init__()\n",
        "\n",
        "        # Convolution 1\n",
        "        self.cnn1 = nn.Conv2d(in_channels=1, out_channels=16, kernel_size=5, stride=1, padding=2)\n",
        "        self.relu1 = nn.ReLU()\n",
        "\n",
        "        # Average pool 1\n",
        "        self.avgpool1 = nn.AvgPool2d(kernel_size=2)\n",
        "\n",
        "        # Convolution 2\n",
        "        self.cnn2 = nn.Conv2d(in_channels=16, out_channels=32, kernel_size=5, stride=1, padding=2)\n",
        "        self.relu2 = nn.ReLU()\n",
        "\n",
        "        # Average pool 2\n",
        "        self.avgpool2 = nn.AvgPool2d(kernel_size=2)\n",
        "\n",
        "        # Fully connected 1 (readout)\n",
        "        self.fc1 = nn.Linear(32 * 7 * 7, 10)\n",
        "\n",
        "    def forward(self, x):\n",
        "        # Convolution 1\n",
        "        out = self.cnn1(x)\n",
        "        out = self.relu1(out)\n",
        "\n",
        "        # Average pool 1\n",
        "        out = self.avgpool1(out)\n",
        "\n",
        "        # Convolution 2\n",
        "        out = self.cnn2(out)\n",
        "        out = self.relu2(out)\n",
        "\n",
        "        # Max pool 2\n",
        "        out = self.avgpool2(out)\n",
        "\n",
        "        # Resize\n",
        "        # Original size: (100, 32, 7, 7)\n",
        "        # out.size(0): 100\n",
        "        # New out size: (100, 32*7*7)\n",
        "        out = out.view(out.size(0), -1)\n",
        "\n",
        "        # Linear function (readout)\n",
        "        out = self.fc1(out)\n",
        "\n",
        "        return out\n",
        "\n",
        "'''\n",
        "STEP 4: INSTANTIATE MODEL CLASS\n",
        "'''\n",
        "from torchsummary import summary\n",
        "model = CNNModel()\n",
        "\n",
        "#Shows what the model looks like\n",
        "summary(model, input_size=(1, 28, 28))\n",
        "'''\n",
        "STEP 5: INSTANTIATE LOSS CLASS\n",
        "'''\n",
        "criterion = nn.CrossEntropyLoss()\n",
        "\n",
        "\n",
        "'''\n",
        "STEP 6: INSTANTIATE OPTIMIZER CLASS\n",
        "'''\n",
        "learning_rate = 0.01\n",
        "\n",
        "optimizer = torch.optim.SGD(model.parameters(), lr=learning_rate)\n",
        "\n",
        "'''\n",
        "STEP 7: TRAIN THE MODEL\n",
        "'''\n",
        "iter = 0\n",
        "for epoch in range(num_epochs):\n",
        "    for i, (images, labels) in enumerate(train_loader):\n",
        "        # Load images as Variable\n",
        "        images = images.requires_grad_()\n",
        "\n",
        "        # Clear gradients w.r.t. parameters\n",
        "        optimizer.zero_grad()\n",
        "\n",
        "        # Forward pass to get output/logits\n",
        "        outputs = model(images)\n",
        "\n",
        "        # Calculate Loss: softmax --> cross entropy loss\n",
        "        loss = criterion(outputs, labels)\n",
        "\n",
        "        # Getting gradients w.r.t. parameters\n",
        "        loss.backward()\n",
        "\n",
        "        # Updating parameters\n",
        "        optimizer.step()\n",
        "\n",
        "        iter += 1\n",
        "\n",
        "        if iter % 500 == 0:\n",
        "            # Calculate Accuracy\n",
        "            correct = 0\n",
        "            total = 0\n",
        "            # Iterate through test dataset\n",
        "            for images, labels in test_loader:\n",
        "                # Load images to a Torch Variable\n",
        "                images = images.requires_grad_()\n",
        "\n",
        "                # Forward pass only to get logits/output\n",
        "                outputs = model(images)\n",
        "\n",
        "                # Get predictions from the maximum value\n",
        "                _, predicted = torch.max(outputs.data, 1)\n",
        "\n",
        "                # Total number of labels\n",
        "                total += labels.size(0)\n",
        "\n",
        "                # Total correct predictions\n",
        "                correct += (predicted == labels).sum()\n",
        "\n",
        "            accuracy = 100 * correct / total\n",
        "\n",
        "\n",
        "            print('Iteration: {}. Loss: {}. Accuracy: {}'.format(iter, loss.item(), accuracy))\n"
      ]
    },
    {
      "cell_type": "code",
      "source": [
        "import random\n",
        "import matplotlib.pyplot as plt\n",
        "\n",
        "# Pick a random index from the test dataset\n",
        "rand_index = random.randint(0, len(test_dataset) - 1)\n",
        "image, label = test_dataset[rand_index]\n",
        "\n",
        "# Prepare image for the model (add batch dimension)\n",
        "input_image = image.unsqueeze(0)\n",
        "\n",
        "# Set model to evaluation mode\n",
        "model.eval()\n",
        "\n",
        "# Predict\n",
        "with torch.no_grad():\n",
        "    output = model(input_image)\n",
        "    _, predicted = torch.max(output.data, 1)\n",
        "\n",
        "# Show the image and prediction\n",
        "plt.imshow(image.squeeze(), cmap='gray')\n",
        "plt.title(f\"True Label: {label}, Predicted: {predicted.item()}\")\n",
        "plt.axis('off')\n",
        "plt.show()\n"
      ],
      "metadata": {
        "colab": {
          "base_uri": "https://localhost:8080/",
          "height": 428
        },
        "id": "XlSE7kFCmMig",
        "outputId": "b874ffbf-407c-44ba-d752-0768dcdfe1fc"
      },
      "execution_count": 11,
      "outputs": [
        {
          "output_type": "display_data",
          "data": {
            "text/plain": [
              "<Figure size 640x480 with 1 Axes>"
            ],
            "image/png": "[encoded data removed]"
          },
          "metadata": {}
        }
      ]
    },
    {
      "cell_type": "markdown",
      "metadata": {
        "id": "0EX40kdaVnnU"
      },
      "source": [
        "### Average Pooling Test Accuracy < Max Pooling Test Accuracy"
      ]
    },
    {
      "cell_type": "markdown",
      "metadata": {
        "id": "EzVO-G0yVnnU"
      },
      "source": [
        "### Model C:\n",
        "- 2 Convolutional Layers\n",
        "    - **Valid Padding** (smaller output size)\n",
        "- 2 **Max Pooling** Layers\n",
        "- 1 Fully Connected Layer\n",
        "<img src=\"./images/cnn10-5.png\" alt=\"deeplearningwizard\" style=\"width: 900px;\"/>\n",
        "<img src=\"./images/cnn10-6n.png\" alt=\"deeplearningwizard\" style=\"width: 900px;\"/>\n",
        "\n",
        "### Steps\n",
        "- Step 1: Load Dataset\n",
        "- Step 2: Make Dataset Iterable\n",
        "- Step 3: Create Model Class\n",
        "- Step 4: Instantiate Model Class\n",
        "- Step 5: Instantiate Loss Class\n",
        "- Step 6: Instantiate Optimizer Class\n",
        "- Step 7: Train Model"
      ]
    },
    {
      "cell_type": "code",
      "execution_count": 12,
      "metadata": {
        "colab": {
          "base_uri": "https://localhost:8080/"
        },
        "id": "RBLgc6hCVnnU",
        "outputId": "02ca0b7c-948d-4ad7-a118-6e0e7c804855"
      },
      "outputs": [
        {
          "output_type": "stream",
          "name": "stdout",
          "text": [
            "----------------------------------------------------------------\n",
            "        Layer (type)               Output Shape         Param #\n",
            "================================================================\n",
            "            Conv2d-1           [-1, 16, 24, 24]             416\n",
            "              ReLU-2           [-1, 16, 24, 24]               0\n",
            "         MaxPool2d-3           [-1, 16, 12, 12]               0\n",
            "            Conv2d-4             [-1, 32, 8, 8]          12,832\n",
            "              ReLU-5             [-1, 32, 8, 8]               0\n",
            "         MaxPool2d-6             [-1, 32, 4, 4]               0\n",
            "            Linear-7                   [-1, 10]           5,130\n",
            "================================================================\n",
            "Total params: 18,378\n",
            "Trainable params: 18,378\n",
            "Non-trainable params: 0\n",
            "----------------------------------------------------------------\n",
            "Input size (MB): 0.00\n",
            "Forward/backward pass size (MB): 0.19\n",
            "Params size (MB): 0.07\n",
            "Estimated Total Size (MB): 0.27\n",
            "----------------------------------------------------------------\n",
            "Iteration: 500. Loss: 0.3374074697494507. Accuracy: 88.56999969482422\n",
            "Iteration: 1000. Loss: 0.2915293872356415. Accuracy: 92.58000183105469\n",
            "Iteration: 1500. Loss: 0.24209442734718323. Accuracy: 94.37999725341797\n",
            "Iteration: 2000. Loss: 0.16651950776576996. Accuracy: 95.37999725341797\n",
            "Iteration: 2500. Loss: 0.22416360676288605. Accuracy: 95.95999908447266\n",
            "Iteration: 3000. Loss: 0.13524512946605682. Accuracy: 96.5\n"
          ]
        }
      ],
      "source": [
        "import torch\n",
        "import torch.nn as nn\n",
        "import torchvision.transforms as transforms\n",
        "import torchvision.datasets as dsets\n",
        "from torch.autograd import Variable\n",
        "\n",
        "'''\n",
        "STEP 1: LOADING DATASET\n",
        "'''\n",
        "\n",
        "train_dataset = dsets.MNIST(root='./data',\n",
        "                            train=True,\n",
        "                            transform=transforms.ToTensor(),\n",
        "                            download=True)\n",
        "\n",
        "test_dataset = dsets.MNIST(root='./data',\n",
        "                           train=False,\n",
        "                           transform=transforms.ToTensor())\n",
        "\n",
        "'''\n",
        "STEP 2: MAKING DATASET ITERABLE\n",
        "'''\n",
        "\n",
        "batch_size = 100\n",
        "n_iters = 3000\n",
        "num_epochs = n_iters / (len(train_dataset) / batch_size)\n",
        "num_epochs = int(num_epochs)\n",
        "\n",
        "train_loader = torch.utils.data.DataLoader(dataset=train_dataset,\n",
        "                                           batch_size=batch_size,\n",
        "                                           shuffle=True)\n",
        "\n",
        "test_loader = torch.utils.data.DataLoader(dataset=test_dataset,\n",
        "                                          batch_size=batch_size,\n",
        "                                          shuffle=False)\n",
        "\n",
        "'''\n",
        "STEP 3: CREATE MODEL CLASS\n",
        "'''\n",
        "class CNNModel(nn.Module):\n",
        "    def __init__(self):\n",
        "        super(CNNModel, self).__init__()\n",
        "\n",
        "        # Convolution 1\n",
        "        self.cnn1 = nn.Conv2d(in_channels=1, out_channels=16, kernel_size=5, stride=1, padding=0)\n",
        "        self.relu1 = nn.ReLU()\n",
        "\n",
        "        # Max pool 1\n",
        "        self.maxpool1 = nn.MaxPool2d(kernel_size=2)\n",
        "\n",
        "        # Convolution 2\n",
        "        self.cnn2 = nn.Conv2d(in_channels=16, out_channels=32, kernel_size=5, stride=1, padding=0)\n",
        "        self.relu2 = nn.ReLU()\n",
        "\n",
        "        # Max pool 2\n",
        "        self.maxpool2 = nn.MaxPool2d(kernel_size=2)\n",
        "\n",
        "        # Fully connected 1 (readout)\n",
        "        self.fc1 = nn.Linear(32 * 4 * 4, 10)\n",
        "\n",
        "    def forward(self, x):\n",
        "        # Convolution 1\n",
        "        out = self.cnn1(x)\n",
        "        out = self.relu1(out)\n",
        "\n",
        "        # Max pool 1\n",
        "        out = self.maxpool1(out)\n",
        "\n",
        "        # Convolution 2\n",
        "        out = self.cnn2(out)\n",
        "        out = self.relu2(out)\n",
        "\n",
        "        # Max pool 2\n",
        "        out = self.maxpool2(out)\n",
        "\n",
        "        # Resize\n",
        "        # Original size: (100, 32, 7, 7)\n",
        "        # out.size(0): 100\n",
        "        # New out size: (100, 32*7*7)\n",
        "        out = out.view(out.size(0), -1)\n",
        "\n",
        "        # Linear function (readout)\n",
        "        out = self.fc1(out)\n",
        "\n",
        "        return out\n",
        "\n",
        "'''\n",
        "STEP 4: INSTANTIATE MODEL CLASS\n",
        "'''\n",
        "\n",
        "from torchsummary import summary\n",
        "model = CNNModel()\n",
        "\n",
        "#Shows what the model looks like\n",
        "summary(model, input_size=(1, 28, 28))\n",
        "\n",
        "'''\n",
        "STEP 5: INSTANTIATE LOSS CLASS\n",
        "'''\n",
        "criterion = nn.CrossEntropyLoss()\n",
        "\n",
        "\n",
        "'''\n",
        "STEP 6: INSTANTIATE OPTIMIZER CLASS\n",
        "'''\n",
        "learning_rate = 0.01\n",
        "\n",
        "optimizer = torch.optim.SGD(model.parameters(), lr=learning_rate)\n",
        "\n",
        "'''\n",
        "STEP 7: TRAIN THE MODEL\n",
        "'''\n",
        "iter = 0\n",
        "for epoch in range(num_epochs):\n",
        "    for i, (images, labels) in enumerate(train_loader):\n",
        "        # Load images as Variable\n",
        "        images = images.requires_grad_()\n",
        "\n",
        "        # Clear gradients w.r.t. parameters\n",
        "        optimizer.zero_grad()\n",
        "\n",
        "        # Forward pass to get output/logits\n",
        "        outputs = model(images)\n",
        "\n",
        "        # Calculate Loss: softmax --> cross entropy loss\n",
        "        loss = criterion(outputs, labels)\n",
        "\n",
        "        # Getting gradients w.r.t. parameters\n",
        "        loss.backward()\n",
        "\n",
        "        # Updating parameters\n",
        "        optimizer.step()\n",
        "\n",
        "        iter += 1\n",
        "\n",
        "        if iter % 500 == 0:\n",
        "            # Calculate Accuracy\n",
        "            correct = 0\n",
        "            total = 0\n",
        "            # Iterate through test dataset\n",
        "            for images, labels in test_loader:\n",
        "                # Load images to a Torch Variable\n",
        "                images = images.requires_grad_()\n",
        "\n",
        "                # Forward pass only to get logits/output\n",
        "                outputs = model(images)\n",
        "\n",
        "                # Get predictions from the maximum value\n",
        "                _, predicted = torch.max(outputs.data, 1)\n",
        "\n",
        "                # Total number of labels\n",
        "                total += labels.size(0)\n",
        "\n",
        "                # Total correct predictions\n",
        "                correct += (predicted == labels).sum()\n",
        "\n",
        "            accuracy = 100 * correct / total\n",
        "\n",
        "            # Print Loss\n",
        "            print('Iteration: {}. Loss: {}. Accuracy: {}'.format(iter, loss.item(), accuracy))\n"
      ]
    },
    {
      "cell_type": "code",
      "source": [
        "import random\n",
        "import matplotlib.pyplot as plt\n",
        "\n",
        "# Pick a random index from the test dataset\n",
        "rand_index = random.randint(0, len(test_dataset) - 1)\n",
        "image, label = test_dataset[rand_index]\n",
        "\n",
        "# Prepare image for the model (add batch dimension)\n",
        "input_image = image.unsqueeze(0)\n",
        "\n",
        "# Set model to evaluation mode\n",
        "model.eval()\n",
        "\n",
        "# Predict\n",
        "with torch.no_grad():\n",
        "    output = model(input_image)\n",
        "    _, predicted = torch.max(output.data, 1)\n",
        "\n",
        "# Show the image and prediction\n",
        "plt.imshow(image.squeeze(), cmap='gray')\n",
        "plt.title(f\"True Label: {label}, Predicted: {predicted.item()}\")\n",
        "plt.axis('off')\n",
        "plt.show()\n"
      ],
      "metadata": {
        "colab": {
          "base_uri": "https://localhost:8080/",
          "height": 428
        },
        "id": "_Mh2GN9emKhH",
        "outputId": "8bd4a2b2-1084-4690-95ab-a079b2364de8"
      },
      "execution_count": 13,
      "outputs": [
        {
          "output_type": "display_data",
          "data": {
            "text/plain": [
              "<Figure size 640x480 with 1 Axes>"
            ],
            "image/png": "[encoded data removed]"
          },
          "metadata": {}
        }
      ]
    },
    {
      "cell_type": "markdown",
      "metadata": {
        "id": "t3SqekHSVnnU"
      },
      "source": [
        "### Summary of Results"
      ]
    },
    {
      "cell_type": "markdown",
      "metadata": {
        "id": "FsHdB98yVnnU"
      },
      "source": [
        "\n",
        "\n",
        "Model A | Model B | Model C\n",
        "------------|--------- |------------------\n",
        "Max Pooling      | Average Pooling       |Average Pooling  \n",
        "Same Padding | Same Padding | Valid Padding\n",
        "97.04% | 93.59% | 96.5%"
      ]
    },
    {
      "cell_type": "markdown",
      "metadata": {
        "id": "ZUnwRv4vVnnU"
      },
      "source": [
        "| All Models |\n",
        "|------|\n",
        "| INPUT $\\rightarrow$ CONV $\\rightarrow$ POOL $\\rightarrow$ CONV $\\rightarrow$ POOL $\\rightarrow$ FC |\n",
        "| Convolution Kernel Size = 5 x 5 |\n",
        "| Convolution Kernel Stride = 1 |\n",
        "| Pooling Kernel Size = 2 x 2 |\n",
        "\n"
      ]
    },
    {
      "cell_type": "markdown",
      "metadata": {
        "id": "NRiv2fXMVnnU"
      },
      "source": [
        "\n",
        "### Deep Learning\n",
        "- 3 ways to expand a convolutional neural network\n",
        "    - More convolutional layers\n",
        "    - Less aggressive downsampling\n",
        "        - Smaller kernel size for pooling (gradually downsampling)\n",
        "    - More fully connected layers\n",
        "- Cons\n",
        "    - Need a larger dataset\n",
        "        - Curse of dimensionality\n",
        "    - Does not necessarily mean higher accuracy"
      ]
    },
    {
      "cell_type": "markdown",
      "metadata": {
        "id": "xxyqRIlEVnnV"
      },
      "source": [
        "# Summary"
      ]
    },
    {
      "cell_type": "markdown",
      "metadata": {
        "id": "5tJdpKVFVnnd"
      },
      "source": [
        "- Transition from **Feedforward Neural Network**\n",
        "    - Addition of **Convolutional** & **Pooling** Layers before Linear Layers\n",
        "- One **Convolutional** Layer Basics\n",
        "- One **Pooling** Layer Basics\n",
        "    - Max pooling\n",
        "    - Average pooling\n",
        "- **Padding **\n",
        "- **Output Dimension** Calculations and Examples\n",
        "    -  $$ O = \\frac {W - K + 2P}{S} + 1$$\n",
        "- Convolutional Neural Networks\n",
        "    - **Model A**: 2 Conv + 2 Max pool + 1 FC\n",
        "        - Same Padding\n",
        "    - **Model B**: 2 Conv + 2 Average pool + 1 FC\n",
        "        - Same Padding\n",
        "    - **Model C**: 2 Conv + 2 Max pool + 1 FC\n",
        "        - Valid Padding\n",
        "\n",
        "- Ways to Expand Model’s **Capacity**\n",
        "    - More convolutions\n",
        "    - Gradual pooling\n",
        "    - More fully connected layers\n"
      ]
    }
  ],
  "metadata": {
    "anaconda-cloud": {},
    "kernelspec": {
      "display_name": "pytorch_latest",
      "language": "python",
      "name": "pytorch_latest"
    },
    "language_info": {
      "codemirror_mode": {
        "name": "ipython",
        "version": 3
      },
      "file_extension": ".py",
      "mimetype": "text/x-python",
      "name": "python",
      "nbconvert_exporter": "python",
      "pygments_lexer": "ipython3",
      "version": "3.5.6"
    },
    "colab": {
      "provenance": [],
      "include_colab_link": true
    }
  },
  "nbformat": 4,
  "nbformat_minor": 0
}
